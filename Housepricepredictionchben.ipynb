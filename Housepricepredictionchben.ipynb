{
 "cells": [
  {
   "cell_type": "code",
   "execution_count": 44,
   "id": "a84281aa",
   "metadata": {},
   "outputs": [],
   "source": [
    "import glob\n",
    "import pandas as pd\n",
    "import json\n",
    "import requests"
   ]
  },
  {
   "cell_type": "code",
   "execution_count": 68,
   "id": "72e49d28",
   "metadata": {},
   "outputs": [
    {
     "data": {
      "text/html": [
       "<div>\n",
       "<style scoped>\n",
       "    .dataframe tbody tr th:only-of-type {\n",
       "        vertical-align: middle;\n",
       "    }\n",
       "\n",
       "    .dataframe tbody tr th {\n",
       "        vertical-align: top;\n",
       "    }\n",
       "\n",
       "    .dataframe thead th {\n",
       "        text-align: right;\n",
       "    }\n",
       "</style>\n",
       "<table border=\"1\" class=\"dataframe\">\n",
       "  <thead>\n",
       "    <tr style=\"text-align: right;\">\n",
       "      <th></th>\n",
       "      <th>id</th>\n",
       "      <th>type</th>\n",
       "      <th>locality</th>\n",
       "      <th>activation_date</th>\n",
       "      <th>latitude</th>\n",
       "      <th>longitude</th>\n",
       "      <th>lease_type</th>\n",
       "      <th>gym</th>\n",
       "      <th>lift</th>\n",
       "      <th>swimming_pool</th>\n",
       "      <th>...</th>\n",
       "      <th>property_age</th>\n",
       "      <th>bathroom</th>\n",
       "      <th>facing</th>\n",
       "      <th>cup_board</th>\n",
       "      <th>floor</th>\n",
       "      <th>total_floor</th>\n",
       "      <th>amenities</th>\n",
       "      <th>water_supply</th>\n",
       "      <th>building_type</th>\n",
       "      <th>balconies</th>\n",
       "    </tr>\n",
       "  </thead>\n",
       "  <tbody>\n",
       "    <tr>\n",
       "      <th>0</th>\n",
       "      <td>ff8081815df539bc015df947ce976cca</td>\n",
       "      <td>BHK2</td>\n",
       "      <td>Basavanagudi</td>\n",
       "      <td>22-08-2017 09:00</td>\n",
       "      <td>12.941603</td>\n",
       "      <td>77.568156</td>\n",
       "      <td>FAMILY</td>\n",
       "      <td>0</td>\n",
       "      <td>1</td>\n",
       "      <td>0</td>\n",
       "      <td>...</td>\n",
       "      <td>1</td>\n",
       "      <td>2</td>\n",
       "      <td>N</td>\n",
       "      <td>2</td>\n",
       "      <td>3</td>\n",
       "      <td>3</td>\n",
       "      <td>{\"LIFT\":true,\"GYM\":false,\"INTERNET\":false,\"AC\"...</td>\n",
       "      <td>CORP_BORE</td>\n",
       "      <td>AP</td>\n",
       "      <td>1</td>\n",
       "    </tr>\n",
       "    <tr>\n",
       "      <th>1</th>\n",
       "      <td>ff80818157288e9301572c05651853a6</td>\n",
       "      <td>BHK2</td>\n",
       "      <td>Rajaji Nagar</td>\n",
       "      <td>17-09-2017 16:33</td>\n",
       "      <td>12.998803</td>\n",
       "      <td>77.561887</td>\n",
       "      <td>ANYONE</td>\n",
       "      <td>0</td>\n",
       "      <td>0</td>\n",
       "      <td>0</td>\n",
       "      <td>...</td>\n",
       "      <td>7</td>\n",
       "      <td>1</td>\n",
       "      <td>S</td>\n",
       "      <td>2</td>\n",
       "      <td>0</td>\n",
       "      <td>3</td>\n",
       "      <td>{\"LIFT\":false,\"GYM\":false,\"INTERNET\":true,\"AC\"...</td>\n",
       "      <td>CORPORATION</td>\n",
       "      <td>IF</td>\n",
       "      <td>0</td>\n",
       "    </tr>\n",
       "    <tr>\n",
       "      <th>2</th>\n",
       "      <td>ff8081815f1afc58015f1b831fde166e</td>\n",
       "      <td>BHK1</td>\n",
       "      <td>Jeevan Bima Nagar</td>\n",
       "      <td>14-04-2018 17:27</td>\n",
       "      <td>12.966467</td>\n",
       "      <td>77.661063</td>\n",
       "      <td>ANYONE</td>\n",
       "      <td>0</td>\n",
       "      <td>0</td>\n",
       "      <td>0</td>\n",
       "      <td>...</td>\n",
       "      <td>10</td>\n",
       "      <td>1</td>\n",
       "      <td>S</td>\n",
       "      <td>1</td>\n",
       "      <td>0</td>\n",
       "      <td>1</td>\n",
       "      <td>{\"LIFT\":false,\"GYM\":false,\"INTERNET\":true,\"AC\"...</td>\n",
       "      <td>CORPORATION</td>\n",
       "      <td>IF</td>\n",
       "      <td>0</td>\n",
       "    </tr>\n",
       "    <tr>\n",
       "      <th>3</th>\n",
       "      <td>ff8081816035b31901603f7922c046e0</td>\n",
       "      <td>BHK1</td>\n",
       "      <td>Jayanagar 1st Block</td>\n",
       "      <td>2017-11-12 13:15:00</td>\n",
       "      <td>12.941533</td>\n",
       "      <td>77.592606</td>\n",
       "      <td>ANYONE</td>\n",
       "      <td>0</td>\n",
       "      <td>0</td>\n",
       "      <td>0</td>\n",
       "      <td>...</td>\n",
       "      <td>8</td>\n",
       "      <td>1</td>\n",
       "      <td>E</td>\n",
       "      <td>0</td>\n",
       "      <td>2</td>\n",
       "      <td>2</td>\n",
       "      <td>{\"LIFT\":false,\"GYM\":false,\"INTERNET\":true,\"AC\"...</td>\n",
       "      <td>CORP_BORE</td>\n",
       "      <td>IF</td>\n",
       "      <td>0</td>\n",
       "    </tr>\n",
       "    <tr>\n",
       "      <th>4</th>\n",
       "      <td>ff8081815c3582f5015c38fc31aa73a4</td>\n",
       "      <td>BHK3</td>\n",
       "      <td>Whitefield Hope Farm Junction</td>\n",
       "      <td>2017-11-07 16:44:00</td>\n",
       "      <td>12.971083</td>\n",
       "      <td>77.751625</td>\n",
       "      <td>ANYONE</td>\n",
       "      <td>1</td>\n",
       "      <td>1</td>\n",
       "      <td>1</td>\n",
       "      <td>...</td>\n",
       "      <td>0</td>\n",
       "      <td>3</td>\n",
       "      <td>E</td>\n",
       "      <td>3</td>\n",
       "      <td>3</td>\n",
       "      <td>4</td>\n",
       "      <td>{\"LIFT\":true,\"GYM\":true,\"INTERNET\":true,\"AC\":f...</td>\n",
       "      <td>BOREWELL</td>\n",
       "      <td>AP</td>\n",
       "      <td>1</td>\n",
       "    </tr>\n",
       "    <tr>\n",
       "      <th>...</th>\n",
       "      <td>...</td>\n",
       "      <td>...</td>\n",
       "      <td>...</td>\n",
       "      <td>...</td>\n",
       "      <td>...</td>\n",
       "      <td>...</td>\n",
       "      <td>...</td>\n",
       "      <td>...</td>\n",
       "      <td>...</td>\n",
       "      <td>...</td>\n",
       "      <td>...</td>\n",
       "      <td>...</td>\n",
       "      <td>...</td>\n",
       "      <td>...</td>\n",
       "      <td>...</td>\n",
       "      <td>...</td>\n",
       "      <td>...</td>\n",
       "      <td>...</td>\n",
       "      <td>...</td>\n",
       "      <td>...</td>\n",
       "      <td>...</td>\n",
       "    </tr>\n",
       "    <tr>\n",
       "      <th>4495</th>\n",
       "      <td>ff8081815216f51101521aa9d46c191f</td>\n",
       "      <td>BHK2</td>\n",
       "      <td>Hanumanthnagar</td>\n",
       "      <td>2018-10-06 18:22:00</td>\n",
       "      <td>12.941654</td>\n",
       "      <td>77.559999</td>\n",
       "      <td>FAMILY</td>\n",
       "      <td>0</td>\n",
       "      <td>0</td>\n",
       "      <td>0</td>\n",
       "      <td>...</td>\n",
       "      <td>2</td>\n",
       "      <td>2</td>\n",
       "      <td>N</td>\n",
       "      <td>2</td>\n",
       "      <td>3</td>\n",
       "      <td>3</td>\n",
       "      <td>{\"LIFT\":false,\"GYM\":false,\"INTERNET\":true,\"AC\"...</td>\n",
       "      <td>CORP_BORE</td>\n",
       "      <td>IF</td>\n",
       "      <td>2</td>\n",
       "    </tr>\n",
       "    <tr>\n",
       "      <th>4496</th>\n",
       "      <td>ff8081816098166901609bf52bb702a8</td>\n",
       "      <td>BHK2</td>\n",
       "      <td>Lakkasandra</td>\n",
       "      <td>21-01-2018 14:36</td>\n",
       "      <td>12.942973</td>\n",
       "      <td>77.597738</td>\n",
       "      <td>ANYONE</td>\n",
       "      <td>0</td>\n",
       "      <td>0</td>\n",
       "      <td>0</td>\n",
       "      <td>...</td>\n",
       "      <td>10</td>\n",
       "      <td>1</td>\n",
       "      <td>N</td>\n",
       "      <td>2</td>\n",
       "      <td>2</td>\n",
       "      <td>3</td>\n",
       "      <td>{\"LIFT\":false,\"GYM\":false,\"INTERNET\":true,\"AC\"...</td>\n",
       "      <td>CORPORATION</td>\n",
       "      <td>IF</td>\n",
       "      <td>1</td>\n",
       "    </tr>\n",
       "    <tr>\n",
       "      <th>4497</th>\n",
       "      <td>ff808181629ac9860162a7ac1a4253bb</td>\n",
       "      <td>BHK1</td>\n",
       "      <td>Jeevan Samskruthi Apartment, Shiridi Sai Templ...</td>\n",
       "      <td>30-05-2018 16:10</td>\n",
       "      <td>12.949315</td>\n",
       "      <td>77.713807</td>\n",
       "      <td>ANYONE</td>\n",
       "      <td>0</td>\n",
       "      <td>0</td>\n",
       "      <td>0</td>\n",
       "      <td>...</td>\n",
       "      <td>10</td>\n",
       "      <td>1</td>\n",
       "      <td>W</td>\n",
       "      <td>1</td>\n",
       "      <td>2</td>\n",
       "      <td>3</td>\n",
       "      <td>{\"SC\":false,\"INTERCOM\":false,\"AC\":false,\"PB\":f...</td>\n",
       "      <td>CORP_BORE</td>\n",
       "      <td>IH</td>\n",
       "      <td>0</td>\n",
       "    </tr>\n",
       "    <tr>\n",
       "      <th>4498</th>\n",
       "      <td>ff8081815b57c717015b580af22f1bbd</td>\n",
       "      <td>BHK3</td>\n",
       "      <td>Mullur</td>\n",
       "      <td>2018-11-07 16:17:00</td>\n",
       "      <td>12.914104</td>\n",
       "      <td>77.716428</td>\n",
       "      <td>FAMILY</td>\n",
       "      <td>1</td>\n",
       "      <td>1</td>\n",
       "      <td>1</td>\n",
       "      <td>...</td>\n",
       "      <td>1</td>\n",
       "      <td>3</td>\n",
       "      <td>N</td>\n",
       "      <td>4</td>\n",
       "      <td>10</td>\n",
       "      <td>10</td>\n",
       "      <td>{\"SC\":false,\"INTERCOM\":true,\"AC\":false,\"PB\":tr...</td>\n",
       "      <td>BOREWELL</td>\n",
       "      <td>AP</td>\n",
       "      <td>3</td>\n",
       "    </tr>\n",
       "    <tr>\n",
       "      <th>4499</th>\n",
       "      <td>ff808181615af5c101616150bd28356e</td>\n",
       "      <td>BHK3</td>\n",
       "      <td>Kaikondrahalli</td>\n",
       "      <td>27-03-2018 16:25</td>\n",
       "      <td>12.915296</td>\n",
       "      <td>77.676694</td>\n",
       "      <td>FAMILY</td>\n",
       "      <td>1</td>\n",
       "      <td>1</td>\n",
       "      <td>1</td>\n",
       "      <td>...</td>\n",
       "      <td>10</td>\n",
       "      <td>3</td>\n",
       "      <td>E</td>\n",
       "      <td>7</td>\n",
       "      <td>5</td>\n",
       "      <td>8</td>\n",
       "      <td>{\"LIFT\":true,\"GYM\":true,\"INTERNET\":false,\"AC\":...</td>\n",
       "      <td>BOREWELL</td>\n",
       "      <td>AP</td>\n",
       "      <td>3</td>\n",
       "    </tr>\n",
       "  </tbody>\n",
       "</table>\n",
       "<p>4500 rows × 24 columns</p>\n",
       "</div>"
      ],
      "text/plain": [
       "                                    id  type  \\\n",
       "0     ff8081815df539bc015df947ce976cca  BHK2   \n",
       "1     ff80818157288e9301572c05651853a6  BHK2   \n",
       "2     ff8081815f1afc58015f1b831fde166e  BHK1   \n",
       "3     ff8081816035b31901603f7922c046e0  BHK1   \n",
       "4     ff8081815c3582f5015c38fc31aa73a4  BHK3   \n",
       "...                                ...   ...   \n",
       "4495  ff8081815216f51101521aa9d46c191f  BHK2   \n",
       "4496  ff8081816098166901609bf52bb702a8  BHK2   \n",
       "4497  ff808181629ac9860162a7ac1a4253bb  BHK1   \n",
       "4498  ff8081815b57c717015b580af22f1bbd  BHK3   \n",
       "4499  ff808181615af5c101616150bd28356e  BHK3   \n",
       "\n",
       "                                               locality      activation_date  \\\n",
       "0                                          Basavanagudi     22-08-2017 09:00   \n",
       "1                                          Rajaji Nagar     17-09-2017 16:33   \n",
       "2                                     Jeevan Bima Nagar     14-04-2018 17:27   \n",
       "3                                   Jayanagar 1st Block  2017-11-12 13:15:00   \n",
       "4                         Whitefield Hope Farm Junction  2017-11-07 16:44:00   \n",
       "...                                                 ...                  ...   \n",
       "4495                                     Hanumanthnagar  2018-10-06 18:22:00   \n",
       "4496                                        Lakkasandra     21-01-2018 14:36   \n",
       "4497  Jeevan Samskruthi Apartment, Shiridi Sai Templ...     30-05-2018 16:10   \n",
       "4498                                             Mullur  2018-11-07 16:17:00   \n",
       "4499                                     Kaikondrahalli     27-03-2018 16:25   \n",
       "\n",
       "       latitude  longitude lease_type  gym  lift  swimming_pool  ...  \\\n",
       "0     12.941603  77.568156     FAMILY    0     1              0  ...   \n",
       "1     12.998803  77.561887     ANYONE    0     0              0  ...   \n",
       "2     12.966467  77.661063     ANYONE    0     0              0  ...   \n",
       "3     12.941533  77.592606     ANYONE    0     0              0  ...   \n",
       "4     12.971083  77.751625     ANYONE    1     1              1  ...   \n",
       "...         ...        ...        ...  ...   ...            ...  ...   \n",
       "4495  12.941654  77.559999     FAMILY    0     0              0  ...   \n",
       "4496  12.942973  77.597738     ANYONE    0     0              0  ...   \n",
       "4497  12.949315  77.713807     ANYONE    0     0              0  ...   \n",
       "4498  12.914104  77.716428     FAMILY    1     1              1  ...   \n",
       "4499  12.915296  77.676694     FAMILY    1     1              1  ...   \n",
       "\n",
       "      property_age bathroom facing  cup_board  floor  total_floor  \\\n",
       "0                1        2      N          2      3            3   \n",
       "1                7        1      S          2      0            3   \n",
       "2               10        1      S          1      0            1   \n",
       "3                8        1      E          0      2            2   \n",
       "4                0        3      E          3      3            4   \n",
       "...            ...      ...    ...        ...    ...          ...   \n",
       "4495             2        2      N          2      3            3   \n",
       "4496            10        1      N          2      2            3   \n",
       "4497            10        1      W          1      2            3   \n",
       "4498             1        3      N          4     10           10   \n",
       "4499            10        3      E          7      5            8   \n",
       "\n",
       "                                              amenities  water_supply  \\\n",
       "0     {\"LIFT\":true,\"GYM\":false,\"INTERNET\":false,\"AC\"...     CORP_BORE   \n",
       "1     {\"LIFT\":false,\"GYM\":false,\"INTERNET\":true,\"AC\"...   CORPORATION   \n",
       "2     {\"LIFT\":false,\"GYM\":false,\"INTERNET\":true,\"AC\"...   CORPORATION   \n",
       "3     {\"LIFT\":false,\"GYM\":false,\"INTERNET\":true,\"AC\"...     CORP_BORE   \n",
       "4     {\"LIFT\":true,\"GYM\":true,\"INTERNET\":true,\"AC\":f...      BOREWELL   \n",
       "...                                                 ...           ...   \n",
       "4495  {\"LIFT\":false,\"GYM\":false,\"INTERNET\":true,\"AC\"...     CORP_BORE   \n",
       "4496  {\"LIFT\":false,\"GYM\":false,\"INTERNET\":true,\"AC\"...   CORPORATION   \n",
       "4497  {\"SC\":false,\"INTERCOM\":false,\"AC\":false,\"PB\":f...     CORP_BORE   \n",
       "4498  {\"SC\":false,\"INTERCOM\":true,\"AC\":false,\"PB\":tr...      BOREWELL   \n",
       "4499  {\"LIFT\":true,\"GYM\":true,\"INTERNET\":false,\"AC\":...      BOREWELL   \n",
       "\n",
       "      building_type  balconies  \n",
       "0                AP          1  \n",
       "1                IF          0  \n",
       "2                IF          0  \n",
       "3                IF          0  \n",
       "4                AP          1  \n",
       "...             ...        ...  \n",
       "4495             IF          2  \n",
       "4496             IF          1  \n",
       "4497             IH          0  \n",
       "4498             AP          3  \n",
       "4499             AP          3  \n",
       "\n",
       "[4500 rows x 24 columns]"
      ]
     },
     "execution_count": 68,
     "metadata": {},
     "output_type": "execute_result"
    }
   ],
   "source": [
    "import pandas as pd\n",
    "\n",
    "df1 = pd.read_excel(\"C:/Users/Rajasekar/Downloads/House_Rent_Train.xlsx\")\n",
    "df2 = pd.read_excel(\"C:/Users/Rajasekar/Downloads/House_Rent_Test.xlsx\")\n",
    "df1\n",
    "df2"
   ]
  },
  {
   "cell_type": "code",
   "execution_count": 69,
   "id": "c94f05d1",
   "metadata": {},
   "outputs": [
    {
     "data": {
      "text/plain": [
       "id                   0\n",
       "type                27\n",
       "locality           160\n",
       "activation_date     23\n",
       "latitude            23\n",
       "longitude           23\n",
       "lease_type          23\n",
       "gym                  0\n",
       "lift                 0\n",
       "swimming_pool        0\n",
       "negotiable           0\n",
       "furnishing           0\n",
       "parking              0\n",
       "property_size        0\n",
       "property_age        23\n",
       "bathroom            23\n",
       "facing              23\n",
       "cup_board           23\n",
       "floor               23\n",
       "total_floor         23\n",
       "amenities           23\n",
       "water_supply        23\n",
       "building_type       23\n",
       "balconies           23\n",
       "rent                23\n",
       "dtype: int64"
      ]
     },
     "execution_count": 69,
     "metadata": {},
     "output_type": "execute_result"
    }
   ],
   "source": [
    "df1.isnull().sum()"
   ]
  },
  {
   "cell_type": "code",
   "execution_count": 70,
   "id": "9dbfdd9e",
   "metadata": {},
   "outputs": [],
   "source": [
    "df1 = df1.dropna()"
   ]
  },
  {
   "cell_type": "code",
   "execution_count": 71,
   "id": "a7c16940",
   "metadata": {},
   "outputs": [
    {
     "name": "stdout",
     "output_type": "stream",
     "text": [
      "<class 'pandas.core.frame.DataFrame'>\n",
      "Index: 20377 entries, 1 to 20531\n",
      "Data columns (total 25 columns):\n",
      " #   Column           Non-Null Count  Dtype  \n",
      "---  ------           --------------  -----  \n",
      " 0   id               20377 non-null  object \n",
      " 1   type             20377 non-null  object \n",
      " 2   locality         20377 non-null  object \n",
      " 3   activation_date  20377 non-null  object \n",
      " 4   latitude         20377 non-null  float64\n",
      " 5   longitude        20377 non-null  float64\n",
      " 6   lease_type       20377 non-null  object \n",
      " 7   gym              20377 non-null  int64  \n",
      " 8   lift             20377 non-null  int64  \n",
      " 9   swimming_pool    20377 non-null  int64  \n",
      " 10  negotiable       20377 non-null  int64  \n",
      " 11  furnishing       20377 non-null  object \n",
      " 12  parking          20377 non-null  object \n",
      " 13  property_size    20377 non-null  int64  \n",
      " 14  property_age     20377 non-null  float64\n",
      " 15  bathroom         20377 non-null  float64\n",
      " 16  facing           20377 non-null  object \n",
      " 17  cup_board        20377 non-null  float64\n",
      " 18  floor            20377 non-null  float64\n",
      " 19  total_floor      20377 non-null  float64\n",
      " 20  amenities        20377 non-null  object \n",
      " 21  water_supply     20377 non-null  object \n",
      " 22  building_type    20377 non-null  object \n",
      " 23  balconies        20377 non-null  float64\n",
      " 24  rent             20377 non-null  float64\n",
      "dtypes: float64(9), int64(5), object(11)\n",
      "memory usage: 4.0+ MB\n"
     ]
    }
   ],
   "source": [
    "df1.info()"
   ]
  },
  {
   "cell_type": "code",
   "execution_count": null,
   "id": "d2c6310d",
   "metadata": {},
   "outputs": [],
   "source": []
  },
  {
   "cell_type": "code",
   "execution_count": 72,
   "id": "3c3e8ede",
   "metadata": {},
   "outputs": [
    {
     "name": "stdout",
     "output_type": "stream",
     "text": [
      "           latitude     longitude           gym          lift  swimming_pool  \\\n",
      "count  20377.000000  20377.000000  20377.000000  20377.000000   20377.000000   \n",
      "mean      12.945750     77.637238      0.226235      0.361142       0.174461   \n",
      "std        0.029587      0.110758      0.418404      0.480344       0.379515   \n",
      "min       12.900004     77.500072      0.000000      0.000000       0.000000   \n",
      "25%       12.918232     77.571912      0.000000      0.000000       0.000000   \n",
      "50%       12.943792     77.633367      0.000000      0.000000       0.000000   \n",
      "75%       12.970922     77.695692      0.000000      1.000000       0.000000   \n",
      "max       12.999999     80.266346      1.000000      1.000000       1.000000   \n",
      "\n",
      "         negotiable  property_size  property_age      bathroom     cup_board  \\\n",
      "count  20377.000000   20377.000000  20377.000000  20377.000000  20377.000000   \n",
      "mean       0.711488    1061.437209      5.777053      1.857732      4.567503   \n",
      "std        0.453081     591.857798      6.362450      0.710933    336.427053   \n",
      "min        0.000000       1.000000     -1.000000      1.000000      0.000000   \n",
      "25%        0.000000     700.000000      1.000000      1.000000      1.000000   \n",
      "50%        1.000000    1044.000000      5.000000      2.000000      2.000000   \n",
      "75%        1.000000    1280.000000     10.000000      2.000000      3.000000   \n",
      "max        1.000000   50000.000000    400.000000     21.000000  48026.000000   \n",
      "\n",
      "              floor   total_floor     balconies          rent  \n",
      "count  20377.000000  20377.000000  20377.000000  20377.000000  \n",
      "mean       1.869510      3.798106      1.147863  19048.502969  \n",
      "std        2.181633      3.183849      0.993290   8433.444157  \n",
      "min        0.000000      0.000000      0.000000   8000.000000  \n",
      "25%        1.000000      2.000000      0.000000  12500.000000  \n",
      "50%        1.000000      3.000000      1.000000  17500.000000  \n",
      "75%        2.000000      4.000000      2.000000  24000.000000  \n",
      "max       25.000000     26.000000     13.000000  50000.000000  \n"
     ]
    }
   ],
   "source": [
    "# Display summary statistics for numeric columns\n",
    "print(df1.describe())"
   ]
  },
  {
   "cell_type": "code",
   "execution_count": 73,
   "id": "bc8139af",
   "metadata": {},
   "outputs": [
    {
     "name": "stderr",
     "output_type": "stream",
     "text": [
      "C:\\Users\\Rajasekar\\anaconda3\\lib\\site-packages\\seaborn\\_oldcore.py:1498: FutureWarning: is_categorical_dtype is deprecated and will be removed in a future version. Use isinstance(dtype, CategoricalDtype) instead\n",
      "  if pd.api.types.is_categorical_dtype(vector):\n",
      "C:\\Users\\Rajasekar\\anaconda3\\lib\\site-packages\\seaborn\\_oldcore.py:1119: FutureWarning: use_inf_as_na option is deprecated and will be removed in a future version. Convert inf values to NaN before operating instead.\n",
      "  with pd.option_context('mode.use_inf_as_na', True):\n"
     ]
    },
    {
     "data": {
      "image/png": "[encoded data removed]",
      "text/plain": [
       "<Figure size 640x480 with 1 Axes>"
      ]
     },
     "metadata": {},
     "output_type": "display_data"
    },
    {
     "name": "stderr",
     "output_type": "stream",
     "text": [
      "C:\\Users\\Rajasekar\\anaconda3\\lib\\site-packages\\seaborn\\_oldcore.py:1498: FutureWarning: is_categorical_dtype is deprecated and will be removed in a future version. Use isinstance(dtype, CategoricalDtype) instead\n",
      "  if pd.api.types.is_categorical_dtype(vector):\n",
      "C:\\Users\\Rajasekar\\anaconda3\\lib\\site-packages\\seaborn\\_oldcore.py:1498: FutureWarning: is_categorical_dtype is deprecated and will be removed in a future version. Use isinstance(dtype, CategoricalDtype) instead\n",
      "  if pd.api.types.is_categorical_dtype(vector):\n",
      "C:\\Users\\Rajasekar\\anaconda3\\lib\\site-packages\\seaborn\\_oldcore.py:1498: FutureWarning: is_categorical_dtype is deprecated and will be removed in a future version. Use isinstance(dtype, CategoricalDtype) instead\n",
      "  if pd.api.types.is_categorical_dtype(vector):\n"
     ]
    },
    {
     "data": {
      "image/png": "[encoded data removed]",
      "text/plain": [
       "<Figure size 640x480 with 1 Axes>"
      ]
     },
     "metadata": {},
     "output_type": "display_data"
    }
   ],
   "source": [
    "import pandas as pd\n",
    "import matplotlib.pyplot as plt\n",
    "import seaborn as sns\n",
    "# Numeric Variables\n",
    "sns.histplot(df1['property_size'], bins=30, kde=True)\n",
    "plt.title('Distribution of Property Size')\n",
    "plt.show()\n",
    "\n",
    "# Categorical Variables\n",
    "sns.countplot(x='furnishing', data=df1)\n",
    "plt.title('Count of Properties by Furnishing Type')\n",
    "plt.show()"
   ]
  },
  {
   "cell_type": "code",
   "execution_count": 74,
   "id": "9ccf829b",
   "metadata": {},
   "outputs": [
    {
     "name": "stderr",
     "output_type": "stream",
     "text": [
      "C:\\Users\\Rajasekar\\anaconda3\\lib\\site-packages\\seaborn\\_oldcore.py:1498: FutureWarning: is_categorical_dtype is deprecated and will be removed in a future version. Use isinstance(dtype, CategoricalDtype) instead\n",
      "  if pd.api.types.is_categorical_dtype(vector):\n",
      "C:\\Users\\Rajasekar\\anaconda3\\lib\\site-packages\\seaborn\\_oldcore.py:1498: FutureWarning: is_categorical_dtype is deprecated and will be removed in a future version. Use isinstance(dtype, CategoricalDtype) instead\n",
      "  if pd.api.types.is_categorical_dtype(vector):\n"
     ]
    },
    {
     "data": {
      "image/png": "[encoded data removed]",
      "text/plain": [
       "<Figure size 640x480 with 1 Axes>"
      ]
     },
     "metadata": {},
     "output_type": "display_data"
    },
    {
     "name": "stderr",
     "output_type": "stream",
     "text": [
      "C:\\Users\\Rajasekar\\anaconda3\\lib\\site-packages\\seaborn\\_oldcore.py:1498: FutureWarning: is_categorical_dtype is deprecated and will be removed in a future version. Use isinstance(dtype, CategoricalDtype) instead\n",
      "  if pd.api.types.is_categorical_dtype(vector):\n",
      "C:\\Users\\Rajasekar\\anaconda3\\lib\\site-packages\\seaborn\\_oldcore.py:1498: FutureWarning: is_categorical_dtype is deprecated and will be removed in a future version. Use isinstance(dtype, CategoricalDtype) instead\n",
      "  if pd.api.types.is_categorical_dtype(vector):\n",
      "C:\\Users\\Rajasekar\\anaconda3\\lib\\site-packages\\seaborn\\_oldcore.py:1498: FutureWarning: is_categorical_dtype is deprecated and will be removed in a future version. Use isinstance(dtype, CategoricalDtype) instead\n",
      "  if pd.api.types.is_categorical_dtype(vector):\n"
     ]
    },
    {
     "data": {
      "image/png": "[encoded data removed]",
      "text/plain": [
       "<Figure size 640x480 with 1 Axes>"
      ]
     },
     "metadata": {},
     "output_type": "display_data"
    }
   ],
   "source": [
    "# Scatter plot for property size and rent\n",
    "sns.scatterplot(x='property_size', y='rent', data=df1)\n",
    "plt.title('Property Size vs Rent')\n",
    "plt.show()\n",
    "\n",
    "# Box plot for rent based on the type of property\n",
    "sns.boxplot(x='type', y='rent', data=df1)\n",
    "plt.title('Rent Distribution by Property Type')\n",
    "plt.show()"
   ]
  },
  {
   "cell_type": "code",
   "execution_count": 75,
   "id": "c0ee2afd",
   "metadata": {},
   "outputs": [
    {
     "name": "stderr",
     "output_type": "stream",
     "text": [
      "C:\\Users\\Rajasekar\\anaconda3\\lib\\site-packages\\seaborn\\_oldcore.py:1498: FutureWarning: is_categorical_dtype is deprecated and will be removed in a future version. Use isinstance(dtype, CategoricalDtype) instead\n",
      "  if pd.api.types.is_categorical_dtype(vector):\n",
      "C:\\Users\\Rajasekar\\anaconda3\\lib\\site-packages\\seaborn\\_oldcore.py:1498: FutureWarning: is_categorical_dtype is deprecated and will be removed in a future version. Use isinstance(dtype, CategoricalDtype) instead\n",
      "  if pd.api.types.is_categorical_dtype(vector):\n",
      "C:\\Users\\Rajasekar\\anaconda3\\lib\\site-packages\\seaborn\\_oldcore.py:1498: FutureWarning: is_categorical_dtype is deprecated and will be removed in a future version. Use isinstance(dtype, CategoricalDtype) instead\n",
      "  if pd.api.types.is_categorical_dtype(vector):\n"
     ]
    },
    {
     "data": {
      "image/png": "[encoded data removed]",
      "text/plain": [
       "<Figure size 640x480 with 1 Axes>"
      ]
     },
     "metadata": {},
     "output_type": "display_data"
    }
   ],
   "source": [
    "# Count plots for categorical variables\n",
    "sns.countplot(x='building_type', data=df1)\n",
    "plt.title('Count of Properties by Building Type')\n",
    "plt.show()"
   ]
  },
  {
   "cell_type": "code",
   "execution_count": 76,
   "id": "c47e7a0f",
   "metadata": {},
   "outputs": [
    {
     "name": "stdout",
     "output_type": "stream",
     "text": [
      "      activation_date  activation_year\n",
      "1 2017-09-10 12:48:00             2017\n",
      "2 2018-12-06 22:02:00             2018\n",
      "3 2018-07-20 16:22:00             2018\n",
      "4 2018-05-31 17:41:00             2018\n",
      "5 2017-10-24 18:29:00             2017\n"
     ]
    }
   ],
   "source": [
    "# Convert the 'activation_date' column to datetime format first\n",
    "df1['activation_date'] = pd.to_datetime(df1['activation_date'])\n",
    "\n",
    "# Extract the year from the 'activation_date' column using apply and lambda\n",
    "df1['activation_year'] = df1['activation_date'].apply(lambda x: x.year)\n",
    "\n",
    "# Print the first few rows of the DataFrame to verify\n",
    "print(df1[['activation_date', 'activation_year']].head())"
   ]
  },
  {
   "cell_type": "code",
   "execution_count": 77,
   "id": "ee90fb91",
   "metadata": {},
   "outputs": [
    {
     "name": "stdout",
     "output_type": "stream",
     "text": [
      "   type              locality   latitude  longitude lease_type  gym  lift  \\\n",
      "1  BHK2             Bellandur  12.929557  77.672280     ANYONE    0     1   \n",
      "2  BHK3         Thiruvanmiyur  12.982870  80.262012     FAMILY    0     1   \n",
      "3  BHK1             Attiguppe  12.955991  77.531634     FAMILY    0     0   \n",
      "4  BHK3             Kodihalli  12.963903  77.649446     FAMILY    0     0   \n",
      "5  BHK1  Seetharampalya,Hoodi  12.986196  77.718314     FAMILY    1     1   \n",
      "\n",
      "   swimming_pool  negotiable      furnishing  ... facing  cup_board  floor  \\\n",
      "1              0           1  SEMI_FURNISHED  ...     NE        2.0    3.0   \n",
      "2              0           0  SEMI_FURNISHED  ...      E        3.0    1.0   \n",
      "3              0           1  SEMI_FURNISHED  ...      E        1.0    1.0   \n",
      "4              0           1  SEMI_FURNISHED  ...      E        4.0    0.0   \n",
      "5              1           1  SEMI_FURNISHED  ...      E        1.0    3.0   \n",
      "\n",
      "   total_floor                                          amenities  \\\n",
      "1          4.0  {\"LIFT\":true,\"GYM\":false,\"INTERNET\":false,\"AC\"...   \n",
      "2          5.0  {\"LIFT\":true,\"GYM\":false,\"INTERNET\":false,\"AC\"...   \n",
      "3          2.0  {\"LIFT\":false,\"GYM\":false,\"INTERNET\":false,\"AC...   \n",
      "4          0.0  {\"LIFT\":false,\"GYM\":false,\"INTERNET\":false,\"AC...   \n",
      "5          5.0  {\"LIFT\":true,\"GYM\":true,\"INTERNET\":false,\"AC\":...   \n",
      "\n",
      "   water_supply  building_type  balconies     rent activation_year  \n",
      "1   CORPORATION             AP        2.0  22000.0            2017  \n",
      "2     CORP_BORE             AP        3.0  28000.0            2018  \n",
      "3   CORPORATION             IH        0.0   8000.0            2018  \n",
      "4   CORPORATION             IH        1.0  45000.0            2018  \n",
      "5     CORP_BORE             AP        2.0  18000.0            2017  \n",
      "\n",
      "[5 rows x 24 columns]\n"
     ]
    }
   ],
   "source": [
    "# Drop the specified columns only if they exist in the DataFrame\n",
    "columns_to_drop = ['id', 'activation_date']\n",
    "columns_to_drop = [col for col in columns_to_drop if col in df1.columns]  # Filter out columns that don't exist\n",
    "\n",
    "df1 = df1.drop(columns=columns_to_drop)\n",
    "\n",
    "# Print the first few rows of the updated DataFrame\n",
    "print(df1.head())"
   ]
  },
  {
   "cell_type": "code",
   "execution_count": 78,
   "id": "75888c16",
   "metadata": {},
   "outputs": [],
   "source": [
    "#Handeling ordinal Data and norminal data\n",
    "#ordinal :type,locality,lease_type,facing,furnishing,water_supplyand ,parkingand building_type\n",
    "#normal :locality"
   ]
  },
  {
   "cell_type": "code",
   "execution_count": 79,
   "id": "5c49c52d",
   "metadata": {},
   "outputs": [],
   "source": [
    "from sklearn.preprocessing import LabelEncoder\n",
    "\n",
    "ordinal_columns = ['type', 'lease_type', 'facing', 'furnishing', 'water_supply','parking','building_type']\n",
    "\n",
    "label_encoder = LabelEncoder()\n",
    "for col in ordinal_columns:\n",
    "    df1[col] = label_encoder.fit_transform(df1[col])"
   ]
  },
  {
   "cell_type": "code",
   "execution_count": 80,
   "id": "21ecacad",
   "metadata": {},
   "outputs": [],
   "source": [
    "df1 = pd.get_dummies(df1, columns=['locality'], drop_first=True)"
   ]
  },
  {
   "cell_type": "code",
   "execution_count": 81,
   "id": "335db0db",
   "metadata": {},
   "outputs": [],
   "source": [
    "df1 = df1.drop(columns=['amenities'])"
   ]
  },
  {
   "cell_type": "code",
   "execution_count": 82,
   "id": "5abb92af",
   "metadata": {},
   "outputs": [],
   "source": [
    "#corrilation"
   ]
  },
  {
   "cell_type": "code",
   "execution_count": 83,
   "id": "c7fdf8ed",
   "metadata": {},
   "outputs": [],
   "source": [
    "df3=df1[['type', 'latitude', 'longitude', 'lease_type', 'gym', 'lift', 'swimming_pool', 'negotiable', 'furnishing', 'parking', 'property_size', 'property_age', 'bathroom', 'facing', 'cup_board', 'floor', 'water_supply', 'building_type', 'balconies', 'rent', 'activation_year']]"
   ]
  },
  {
   "cell_type": "code",
   "execution_count": 84,
   "id": "28f00ff8",
   "metadata": {},
   "outputs": [
    {
     "data": {
      "image/png": "[encoded data removed]",
      "text/plain": [
       "<Figure size 2000x2000 with 2 Axes>"
      ]
     },
     "metadata": {},
     "output_type": "display_data"
    }
   ],
   "source": [
    "import matplotlib.pyplot as plt\n",
    "import seaborn as sns\n",
    "\n",
    "plt.figure(figsize=(20, 20))\n",
    "correlation_matrix = df3.corr()\n",
    "\n",
    "# Filter the correlation matrix to show only the correlation with 'rent'\n",
    "rent_correlation = correlation_matrix[['rent']]\n",
    "\n",
    "# Create a heatmap\n",
    "sns.heatmap(rent_correlation, annot=True, cmap=\"RdYlGn\", linewidths=.5)\n",
    "plt.title('Correlation with Rent')\n",
    "plt.show()"
   ]
  },
  {
   "cell_type": "code",
   "execution_count": 85,
   "id": "68ac2e04",
   "metadata": {},
   "outputs": [],
   "source": [
    "from sklearn.preprocessing import LabelEncoder\n",
    "\n",
    "ordinal_columns = ['type', 'lease_type', 'facing', 'furnishing', 'water_supply','parking','building_type']\n",
    "\n",
    "label_encoder = LabelEncoder()\n",
    "for col in ordinal_columns:\n",
    "    df2[col] = label_encoder.fit_transform(df2[col])\n",
    "\n",
    "df2 = df2.drop(columns=['amenities'])"
   ]
  },
  {
   "cell_type": "code",
   "execution_count": 86,
   "id": "c4611a2a",
   "metadata": {},
   "outputs": [
    {
     "name": "stdout",
     "output_type": "stream",
     "text": [
      "        latitude  longitude  distance_from_center_1  distance_from_center_2\n",
      "1      12.929557  77.672280             8801.563260             8511.392645\n",
      "2      12.982870  80.262012             8796.648017             8506.477559\n",
      "3      12.955991  77.531634             8801.817128             8511.646496\n",
      "4      12.963903  77.649446             8801.591076             8511.420450\n",
      "5      12.986196  77.718314             8801.451059             8511.280432\n",
      "...          ...        ...                     ...                     ...\n",
      "20524  12.979762  77.615395             8801.648321             8511.477688\n",
      "20528  12.931072  77.632361             8801.637983             8511.467365\n",
      "20529  12.901800  77.566597             8801.775248             8511.604634\n",
      "20530  12.965502  77.647694             8801.593672             8511.423046\n",
      "20531  12.998645  77.574336             8801.717456             8511.546816\n",
      "\n",
      "[20377 rows x 4 columns]\n"
     ]
    }
   ],
   "source": [
    "from math import radians, sin, cos, sqrt, atan2\n",
    "import pandas as pd\n",
    "\n",
    "# Assuming your DataFrame is df3\n",
    "# Replace 'your_latitude_column' and 'your_longitude_column' with the actual column names in your DataFrame.\n",
    "\n",
    "central_point_1 = {'latitude': 13.0827, 'longitude': 80.2707}\n",
    "central_point_2 = {'latitude': 12.9716, 'longitude': 77.5946}\n",
    "\n",
    "# Function to calculate Haversine distance\n",
    "def haversine_distance(lat1, lon1, lat2, lon2):\n",
    "    R = 6371  # Radius of the Earth in kilometers\n",
    "    dlat = radians(lat2 - lat1)\n",
    "    dlon = radians(lon2 - lon1)\n",
    "    a = sin(dlat / 2) ** 2 + cos(radians(lat1)) * cos(radians(lat2)) * sin(dlon / 2) ** 2\n",
    "    c = 2 * atan2(sqrt(a), sqrt(1 - a))\n",
    "    distance = R * c\n",
    "    return distance\n",
    "\n",
    "# Calculate distances from both central points and create new features\n",
    "df1['distance_from_center_1'] = df1.apply(lambda row: haversine_distance(central_point_1['latitude'], central_point_1['longitude'], radians(row['latitude']), radians(row['longitude'])), axis=1)\n",
    "\n",
    "df1['distance_from_center_2'] = df1.apply(lambda row: haversine_distance(central_point_2['latitude'], central_point_2['longitude'], radians(row['latitude']), radians(row['longitude'])), axis=1)\n",
    "\n",
    "# Display the updated DataFrame\n",
    "print(df1[['latitude', 'longitude', 'distance_from_center_1', 'distance_from_center_2']])\n"
   ]
  },
  {
   "cell_type": "code",
   "execution_count": 87,
   "id": "090ade4c",
   "metadata": {},
   "outputs": [],
   "source": [
    "df4=df1[['type', 'latitude', 'longitude', 'lease_type', 'gym', 'lift', 'swimming_pool', 'negotiable', 'furnishing', 'parking', 'property_size', 'property_age', 'bathroom', 'facing', 'cup_board', 'floor', 'water_supply', 'building_type', 'balconies', 'rent', 'activation_year','distance_from_center_1','distance_from_center_2']]\n"
   ]
  },
  {
   "cell_type": "code",
   "execution_count": 88,
   "id": "3c44de41",
   "metadata": {},
   "outputs": [
    {
     "name": "stdout",
     "output_type": "stream",
     "text": [
      "       latitude  longitude  distance_from_center_1  distance_from_center_2\n",
      "0     12.941603  77.568156             8801.754559             8511.583934\n",
      "1     12.998803  77.561887             8801.740899             8511.570258\n",
      "2     12.966467  77.661063             8801.567990             8511.397364\n",
      "3     12.941533  77.592606             8801.708408             8511.537785\n",
      "4     12.971083  77.751625             8801.394879             8511.224258\n",
      "...         ...        ...                     ...                     ...\n",
      "4495  12.941654  77.559999             8801.769942             8511.599317\n",
      "4496  12.942973  77.597738             8801.698074             8511.527450\n",
      "4497  12.949315  77.713807             8801.476015             8511.305397\n",
      "4498  12.914104  77.716428             8801.486762             8511.316154\n",
      "4499  12.915296  77.676694             8801.561281             8511.390670\n",
      "\n",
      "[4500 rows x 4 columns]\n"
     ]
    }
   ],
   "source": [
    "from math import radians, sin, cos, sqrt, atan2\n",
    "import pandas as pd\n",
    "\n",
    "# Replace 'your_latitude_column' and 'your_longitude_column' with the actual column names in your DataFrame.\n",
    "\n",
    "central_point_1 = {'latitude': 13.0827, 'longitude': 80.2707}\n",
    "central_point_2 = {'latitude': 12.9716, 'longitude': 77.5946}\n",
    "\n",
    "# Function to calculate Haversine distance\n",
    "def haversine_distance(lat1, lon1, lat2, lon2):\n",
    "    R = 6371  # Radius of the Earth in kilometers\n",
    "    dlat = radians(lat2 - lat1)\n",
    "    dlon = radians(lon2 - lon1)\n",
    "    a = sin(dlat / 2) ** 2 + cos(radians(lat1)) * cos(radians(lat2)) * sin(dlon / 2) ** 2\n",
    "    c = 2 * atan2(sqrt(a), sqrt(1 - a))\n",
    "    distance = R * c\n",
    "    return distance\n",
    "\n",
    "# Calculate distances from both central points and create new features\n",
    "df2['distance_from_center_1'] = df2.apply(lambda row: haversine_distance(central_point_1['latitude'], central_point_1['longitude'], radians(row['latitude']), radians(row['longitude'])), axis=1)\n",
    "\n",
    "df2['distance_from_center_2'] = df2.apply(lambda row: haversine_distance(central_point_2['latitude'], central_point_2['longitude'], radians(row['latitude']), radians(row['longitude'])), axis=1)\n",
    "\n",
    "# Display the updated DataFrame\n",
    "print(df2[['latitude', 'longitude', 'distance_from_center_1', 'distance_from_center_2']])"
   ]
  },
  {
   "cell_type": "code",
   "execution_count": 89,
   "id": "0a68ed7b",
   "metadata": {},
   "outputs": [
    {
     "name": "stderr",
     "output_type": "stream",
     "text": [
      "C:\\Users\\Rajasekar\\AppData\\Local\\Temp\\ipykernel_11924\\4172791409.py:2: UserWarning: Parsing dates in %d-%m-%Y %H:%M format when dayfirst=False (the default) was specified. Pass `dayfirst=True` or specify a format to silence this warning.\n",
      "  df2['activation_date'] = pd.to_datetime(df2['activation_date'])\n"
     ]
    }
   ],
   "source": [
    "# Convert the 'activation_date' column to datetime format first\n",
    "df2['activation_date'] = pd.to_datetime(df2['activation_date'])\n",
    "\n",
    "# Extract the year from the 'activation_date' column using apply and lambda\n",
    "df2['activation_year'] = df2['activation_date'].apply(lambda x: x.year)\n",
    "\n",
    "\n",
    "\n",
    "df2.drop(['total_floor'], axis=1, inplace=True)"
   ]
  },
  {
   "cell_type": "code",
   "execution_count": 90,
   "id": "b41611c1",
   "metadata": {},
   "outputs": [
    {
     "name": "stdout",
     "output_type": "stream",
     "text": [
      "<class 'pandas.core.frame.DataFrame'>\n",
      "RangeIndex: 4500 entries, 0 to 4499\n",
      "Data columns (total 25 columns):\n",
      " #   Column                  Non-Null Count  Dtype         \n",
      "---  ------                  --------------  -----         \n",
      " 0   id                      4500 non-null   object        \n",
      " 1   type                    4500 non-null   int32         \n",
      " 2   locality                4500 non-null   object        \n",
      " 3   activation_date         4500 non-null   datetime64[ns]\n",
      " 4   latitude                4500 non-null   float64       \n",
      " 5   longitude               4500 non-null   float64       \n",
      " 6   lease_type              4500 non-null   int32         \n",
      " 7   gym                     4500 non-null   int64         \n",
      " 8   lift                    4500 non-null   int64         \n",
      " 9   swimming_pool           4500 non-null   int64         \n",
      " 10  negotiable              4500 non-null   int64         \n",
      " 11  furnishing              4500 non-null   int32         \n",
      " 12  parking                 4500 non-null   int32         \n",
      " 13  property_size           4500 non-null   int64         \n",
      " 14  property_age            4500 non-null   int64         \n",
      " 15  bathroom                4500 non-null   int64         \n",
      " 16  facing                  4500 non-null   int32         \n",
      " 17  cup_board               4500 non-null   int64         \n",
      " 18  floor                   4500 non-null   int64         \n",
      " 19  water_supply            4500 non-null   int32         \n",
      " 20  building_type           4500 non-null   int32         \n",
      " 21  balconies               4500 non-null   int64         \n",
      " 22  distance_from_center_1  4500 non-null   float64       \n",
      " 23  distance_from_center_2  4500 non-null   float64       \n",
      " 24  activation_year         4500 non-null   int64         \n",
      "dtypes: datetime64[ns](1), float64(4), int32(7), int64(11), object(2)\n",
      "memory usage: 756.0+ KB\n"
     ]
    }
   ],
   "source": [
    "df2.info()"
   ]
  },
  {
   "cell_type": "code",
   "execution_count": 91,
   "id": "02e004a6",
   "metadata": {},
   "outputs": [],
   "source": [
    "# Reorder columns with 'activation_year' at the last position\n",
    "df2 = df2[['type', 'latitude', 'longitude', 'lease_type', 'gym', 'lift',\n",
    "           'swimming_pool', 'negotiable', 'furnishing', 'parking', 'property_size',\n",
    "           'property_age', 'bathroom', 'facing', 'cup_board', 'floor',\n",
    "           'water_supply', 'building_type', 'balconies', 'activation_year','distance_from_center_1',\n",
    "           'distance_from_center_2']]"
   ]
  },
  {
   "cell_type": "code",
   "execution_count": 30,
   "id": "599d0258",
   "metadata": {},
   "outputs": [
    {
     "name": "stdout",
     "output_type": "stream",
     "text": [
      "Mean Absolute Error (MAE): 2661.83724484789\n",
      "Mean Squared Error (MSE): 14553990.528460132\n",
      "Root Mean Squared Error (RMSE): 3814.969269661308\n",
      "R-squared value: 0.7939707275889248\n"
     ]
    }
   ],
   "source": [
    "#Train randomforesr with train data\n",
    "from sklearn.ensemble import RandomForestRegressor\n",
    "from sklearn.model_selection import train_test_split\n",
    "from sklearn.metrics import mean_absolute_error, mean_squared_error, r2_score\n",
    "import numpy as np\n",
    "\n",
    "X = df4.drop('rent', axis=1)  # Features\n",
    "y = df4['rent']  # Target variable\n",
    "\n",
    "y_reshaped = y.values.reshape(-1, 1)\n",
    "\n",
    "# Split the data into training and validation sets\n",
    "X_train, X_val, y_train, y_val = train_test_split(X, y_reshaped, test_size=0.2, random_state=42)\n",
    "\n",
    "# Instantiate the RandomForestRegressor model\n",
    "rf_model = RandomForestRegressor(random_state=42)\n",
    "\n",
    "# Train the model using the training data\n",
    "rf_model.fit(X_train, np.ravel(y_train))  # Using np.ravel(y_train) to convert y_train from (n, 1) to (n,)\n",
    "\n",
    "# Make predictions on the validation set\n",
    "y_pred = rf_model.predict(X_val)\n",
    "\n",
    "# Evaluate the model's performance\n",
    "print(f\"Mean Absolute Error (MAE): {mean_absolute_error(y_val, y_pred)}\")\n",
    "print(f\"Mean Squared Error (MSE): {mean_squared_error(y_val, y_pred)}\")\n",
    "print(f\"Root Mean Squared Error (RMSE): {np.sqrt(mean_squared_error(y_val, y_pred))}\")\n",
    "print(f\"R-squared value: {r2_score(y_val, y_pred)}\")"
   ]
  },
  {
   "cell_type": "code",
   "execution_count": 92,
   "id": "4b4841ee",
   "metadata": {},
   "outputs": [
    {
     "data": {
      "text/plain": [
       "(18, 1)"
      ]
     },
     "execution_count": 92,
     "metadata": {},
     "output_type": "execute_result"
    }
   ],
   "source": [
    "from sklearn.model_selection import train_test_split\n",
    "X_test = df2\n",
    "df5 = pd.read_excel(\"C:/Users/Rajasekar/Downloads/sample submission.xlsx\")                     \n",
    "y_test= df5['rent']\n",
    "df5.shape"
   ]
  },
  {
   "cell_type": "code",
   "execution_count": 93,
   "id": "0409d047",
   "metadata": {},
   "outputs": [
    {
     "name": "stdout",
     "output_type": "stream",
     "text": [
      "         rent  Predicted Rent\n",
      "0     10000.0        25605.00\n",
      "1     14800.0        11230.00\n",
      "2     18000.0        11513.50\n",
      "3     12000.0        10070.00\n",
      "4      9300.0        23655.00\n",
      "...       ...             ...\n",
      "4495      NaN        20322.50\n",
      "4496      NaN        12567.00\n",
      "4497      NaN        10820.50\n",
      "4498      NaN        27584.96\n",
      "4499      NaN        30665.00\n",
      "\n",
      "[4500 rows x 2 columns]\n"
     ]
    }
   ],
   "source": [
    "#Testing\n",
    "# Use the trained model to make predictions on df2\n",
    "predictions = rf_model.predict(df2)\n",
    "\n",
    "# Convert predictions to a DataFrame for easier comparison\n",
    "df_predictions = pd.DataFrame(predictions, columns=['Predicted Rent'])\n",
    "\n",
    "# Compare predictions with df4 (actual values)\n",
    "comparison_df = pd.concat([df5.reset_index(drop=True), df_predictions], axis=1)\n",
    "\n",
    "# Display the comparison DataFrame\n",
    "print(comparison_df)"
   ]
  },
  {
   "cell_type": "code",
   "execution_count": 94,
   "id": "a8b42c04",
   "metadata": {},
   "outputs": [],
   "source": [
    "result_df = comparison_df.loc[0:17]"
   ]
  },
  {
   "cell_type": "code",
   "execution_count": 95,
   "id": "d909d9b0",
   "metadata": {},
   "outputs": [
    {
     "name": "stdout",
     "output_type": "stream",
     "text": [
      "Mean Absolute Error: 7404.643333333334\n",
      "Mean Squared Error: 103930811.55757779\n",
      "R-squared: -0.15550284228447486\n",
      "(16301, 22) (16301, 1)\n",
      "(4500, 22) (18,)\n"
     ]
    }
   ],
   "source": [
    "from sklearn.metrics import mean_absolute_error, mean_squared_error, r2_score\n",
    "\n",
    "# Assuming 'rent' is the actual rent values and 'Predicted Rent' is the predicted rent values\n",
    "actual_values = result_df['rent']\n",
    "predicted_values = result_df['Predicted Rent']\n",
    "\n",
    "# Calculate evaluation metrics\n",
    "mae = mean_absolute_error(actual_values, predicted_values)\n",
    "mse = mean_squared_error(actual_values, predicted_values)\n",
    "r2 = r2_score(actual_values, predicted_values)\n",
    "\n",
    "# Display the calculated metrics\n",
    "print(f'Mean Absolute Error: {mae}')\n",
    "print(f'Mean Squared Error: {mse}')\n",
    "print(f'R-squared: {r2}')\n",
    "\n",
    "\n",
    "print(X_train.shape, y_train.shape)\n",
    "print(X_test.shape, y_test.shape)"
   ]
  },
  {
   "cell_type": "code",
   "execution_count": 96,
   "id": "b49d5159",
   "metadata": {},
   "outputs": [
    {
     "name": "stdout",
     "output_type": "stream",
     "text": [
      "Mean Absolute Error (MAE): 2598.1862519837923\n",
      "Mean Squared Error (MSE): 14156825.27362271\n",
      "Root Mean Squared Error (RMSE): 3762.5556837903023\n",
      "R-squared value: 0.7995930803258666\n"
     ]
    }
   ],
   "source": [
    "\n",
    "import xgboost as xgb\n",
    "from sklearn.model_selection import train_test_split\n",
    "from sklearn.metrics import mean_absolute_error, mean_squared_error, r2_score\n",
    "import numpy as np\n",
    "\n",
    "y_reshaped = y.values.reshape(-1, 1)\n",
    "\n",
    "\n",
    "# Instantiate the XGBoost regressor model\n",
    "xgb_model = xgb.XGBRegressor(objective='reg:squarederror', random_state=42)\n",
    "\n",
    "# Train the model using the training data\n",
    "xgb_model.fit(X_train, np.ravel(y_train))  # Using np.ravel(y_train) to convert y_train from (n, 1) to (n,)\n",
    "\n",
    "# Make predictions on the validation set\n",
    "y_pred_xgb = xgb_model.predict(X_val)\n",
    "\n",
    "# Evaluate the model's performance\n",
    "print(f\"Mean Absolute Error (MAE): {mean_absolute_error(y_val, y_pred_xgb)}\")\n",
    "print(f\"Mean Squared Error (MSE): {mean_squared_error(y_val, y_pred_xgb)}\")\n",
    "print(f\"Root Mean Squared Error (RMSE): {np.sqrt(mean_squared_error(y_val, y_pred_xgb))}\")\n",
    "print(f\"R-squared value: {r2_score(y_val, y_pred_xgb)}\")"
   ]
  },
  {
   "cell_type": "code",
   "execution_count": 97,
   "id": "de872381",
   "metadata": {},
   "outputs": [
    {
     "name": "stdout",
     "output_type": "stream",
     "text": [
      "[LightGBM] [Info] Auto-choosing row-wise multi-threading, the overhead of testing was 0.000571 seconds.\n",
      "You can set `force_row_wise=true` to remove the overhead.\n",
      "And if memory is not enough, you can set `force_col_wise=true`.\n",
      "[LightGBM] [Info] Total Bins 1407\n",
      "[LightGBM] [Info] Number of data points in the train set: 16301, number of used features: 22\n",
      "[LightGBM] [Info] Start training from score 19054.288510\n"
     ]
    }
   ],
   "source": [
    "import lightgbm as lgb\n",
    "\n",
    "lgb_model = lgb.LGBMRegressor(random_state=42)\n",
    "lgb_model.fit(X_train, np.ravel(y_train))\n",
    "\n",
    "y_pred_lgb = lgb_model.predict(X_val)"
   ]
  },
  {
   "cell_type": "code",
   "execution_count": 98,
   "id": "d6bfba7e",
   "metadata": {},
   "outputs": [],
   "source": [
    "from catboost import CatBoostRegressor\n",
    "\n",
    "catboost_model = CatBoostRegressor(random_state=42, verbose=0)\n",
    "catboost_model.fit(X_train, np.ravel(y_train))\n",
    "\n",
    "y_pred_catboost = catboost_model.predict(X_val)"
   ]
  },
  {
   "cell_type": "code",
   "execution_count": 99,
   "id": "22dc9000",
   "metadata": {},
   "outputs": [],
   "source": [
    "from sklearn.svm import SVR\n",
    "from sklearn.preprocessing import StandardScaler\n",
    "\n",
    "scaler = StandardScaler()\n",
    "X_train_scaled = scaler.fit_transform(X_train)\n",
    "X_val_scaled = scaler.transform(X_val)\n",
    "\n",
    "svr_model = SVR(kernel='linear', C=1.0)\n",
    "svr_model.fit(X_train_scaled, np.ravel(y_train))\n",
    "\n",
    "y_pred_svr = svr_model.predict(X_val_scaled)"
   ]
  },
  {
   "cell_type": "code",
   "execution_count": 100,
   "id": "aff75439",
   "metadata": {},
   "outputs": [
    {
     "name": "stdout",
     "output_type": "stream",
     "text": [
      "[LightGBM] [Info] Auto-choosing row-wise multi-threading, the overhead of testing was 0.000691 seconds.\n",
      "You can set `force_row_wise=true` to remove the overhead.\n",
      "And if memory is not enough, you can set `force_col_wise=true`.\n",
      "[LightGBM] [Info] Total Bins 1407\n",
      "[LightGBM] [Info] Number of data points in the train set: 16301, number of used features: 22\n",
      "[LightGBM] [Info] Start training from score 19054.288510\n",
      "LightGBM:\n",
      "MAE: 2582.099273702583\n",
      "MSE: 13614665.694471832\n",
      "RMSE: 3689.8056445389957\n",
      "R-squared: 0.807268002430888\n",
      "\n",
      "CatBoost:\n",
      "MAE: 2506.9379899470705\n",
      "MSE: 12992870.258617377\n",
      "RMSE: 3604.5624226273812\n",
      "R-squared: 0.816070266042858\n",
      "\n",
      "SVR:\n",
      "MAE: 3855.355749517883\n",
      "MSE: 30492804.610609196\n",
      "RMSE: 5522.029030221518\n",
      "R-squared: 0.5683376091655603\n"
     ]
    }
   ],
   "source": [
    "import lightgbm as lgb\n",
    "from catboost import CatBoostRegressor\n",
    "from sklearn.svm import SVR\n",
    "from sklearn.preprocessing import StandardScaler\n",
    "from sklearn.metrics import mean_absolute_error, mean_squared_error, r2_score\n",
    "import numpy as np\n",
    "\n",
    "# LightGBM\n",
    "lgb_model = lgb.LGBMRegressor(random_state=42)\n",
    "lgb_model.fit(X_train, np.ravel(y_train))\n",
    "y_pred_lgb = lgb_model.predict(X_val)\n",
    "\n",
    "# CatBoost\n",
    "catboost_model = CatBoostRegressor(random_state=42, verbose=0)\n",
    "catboost_model.fit(X_train, np.ravel(y_train))\n",
    "y_pred_catboost = catboost_model.predict(X_val)\n",
    "\n",
    "# Support Vector Regression (SVR)\n",
    "scaler = StandardScaler()\n",
    "X_train_scaled = scaler.fit_transform(X_train)\n",
    "X_val_scaled = scaler.transform(X_val)\n",
    "\n",
    "svr_model = SVR(kernel='linear', C=1.0)\n",
    "svr_model.fit(X_train_scaled, np.ravel(y_train))\n",
    "y_pred_svr = svr_model.predict(X_val_scaled)\n",
    "\n",
    "# Evaluate LightGBM\n",
    "print(\"LightGBM:\")\n",
    "print(f\"MAE: {mean_absolute_error(y_val, y_pred_lgb)}\")\n",
    "print(f\"MSE: {mean_squared_error(y_val, y_pred_lgb)}\")\n",
    "print(f\"RMSE: {np.sqrt(mean_squared_error(y_val, y_pred_lgb))}\")\n",
    "print(f\"R-squared: {r2_score(y_val, y_pred_lgb)}\")\n",
    "print()\n",
    "\n",
    "# Evaluate CatBoost\n",
    "print(\"CatBoost:\")\n",
    "print(f\"MAE: {mean_absolute_error(y_val, y_pred_catboost)}\")\n",
    "print(f\"MSE: {mean_squared_error(y_val, y_pred_catboost)}\")\n",
    "print(f\"RMSE: {np.sqrt(mean_squared_error(y_val, y_pred_catboost))}\")\n",
    "print(f\"R-squared: {r2_score(y_val, y_pred_catboost)}\")\n",
    "print()\n",
    "\n",
    "# Evaluate SVR\n",
    "print(\"SVR:\")\n",
    "print(f\"MAE: {mean_absolute_error(y_val, y_pred_svr)}\")\n",
    "print(f\"MSE: {mean_squared_error(y_val, y_pred_svr)}\")\n",
    "print(f\"RMSE: {np.sqrt(mean_squared_error(y_val, y_pred_svr))}\")\n",
    "print(f\"R-squared: {r2_score(y_val, y_pred_svr)}\")\n"
   ]
  },
  {
   "cell_type": "code",
   "execution_count": 103,
   "id": "f4c129fe",
   "metadata": {},
   "outputs": [
    {
     "name": "stdout",
     "output_type": "stream",
     "text": [
      "X_test_selected_reshaped shape: (18, 22)\n"
     ]
    }
   ],
   "source": [
    "# Assuming X_test has shape (4500, 22)\n",
    "X_test = np.random.rand(4500, 22)  # Replace this line with your actual X_test\n",
    "\n",
    "# Select the first 18 rows from X_test and reshape\n",
    "X_test_selected_reshaped = X_test[:18, :].reshape((18, 22))\n",
    "\n",
    "# Check the shapes\n",
    "print(\"X_test_selected_reshaped shape:\", X_test_selected_reshaped.shape)"
   ]
  },
  {
   "cell_type": "code",
   "execution_count": 105,
   "id": "ae4af788",
   "metadata": {},
   "outputs": [
    {
     "name": "stdout",
     "output_type": "stream",
     "text": [
      "Tuned CatBoost:\n",
      "Best Hyperparameters: {'depth': 8, 'iterations': 300, 'learning_rate': 0.1}\n",
      "MAE: 7499.745909237452\n",
      "MSE: 125022342.76727112\n",
      "RMSE: 11181.339041781674\n",
      "R-squared: -0.3899985023845658\n"
     ]
    }
   ],
   "source": [
    "#test\n",
    "from sklearn.model_selection import GridSearchCV\n",
    "\n",
    "\n",
    "# Define the CatBoostRegressor\n",
    "catboost_model = CatBoostRegressor(random_state=42, verbose=0)\n",
    "\n",
    "# Define the parameter grid for hyperparameter tuning\n",
    "param_grid = {\n",
    "    'depth': [6, 8, 10],\n",
    "    'learning_rate': [0.01, 0.1, 0.2],\n",
    "    'iterations': [100, 200, 300]\n",
    "}\n",
    "\n",
    "# Perform GridSearchCV\n",
    "grid_search = GridSearchCV(catboost_model, param_grid, cv=3, scoring='neg_mean_absolute_error', n_jobs=-1)\n",
    "grid_search.fit(X_train, y_train)\n",
    "\n",
    "# Get the best hyperparameters\n",
    "best_params = grid_search.best_params_\n",
    "\n",
    "# Train CatBoostRegressor with the best hyperparameters\n",
    "best_catboost_model = CatBoostRegressor(random_state=42, verbose=0, **best_params)\n",
    "best_catboost_model.fit(X_train, y_train)\n",
    "\n",
    "# Make predictions on the test set\n",
    "y_pred_catboost = best_catboost_model.predict(X_test_selected_reshaped)\n",
    "\n",
    "# Evaluate the tuned CatBoost model\n",
    "print(\"Tuned CatBoost:\")\n",
    "print(f\"Best Hyperparameters: {best_params}\")\n",
    "print(f\"MAE: {mean_absolute_error(y_test, y_pred_catboost)}\")\n",
    "print(f\"MSE: {mean_squared_error(y_test, y_pred_catboost)}\")\n",
    "print(f\"RMSE: {np.sqrt(mean_squared_error(y_test, y_pred_catboost))}\")\n",
    "print(f\"R-squared: {r2_score(y_test, y_pred_catboost)}\")"
   ]
  },
  {
   "cell_type": "code",
   "execution_count": null,
   "id": "72a31109",
   "metadata": {},
   "outputs": [],
   "source": []
  },
  {
   "cell_type": "code",
   "execution_count": null,
   "id": "40c0b4fc",
   "metadata": {},
   "outputs": [],
   "source": []
  }
 ],
 "metadata": {
  "kernelspec": {
   "display_name": "Python 3 (ipykernel)",
   "language": "python",
   "name": "python3"
  },
  "language_info": {
   "codemirror_mode": {
    "name": "ipython",
    "version": 3
   },
   "file_extension": ".py",
   "mimetype": "text/x-python",
   "name": "python",
   "nbconvert_exporter": "python",
   "pygments_lexer": "ipython3",
   "version": "3.10.9"
  }
 },
 "nbformat": 4,
 "nbformat_minor": 5
}
